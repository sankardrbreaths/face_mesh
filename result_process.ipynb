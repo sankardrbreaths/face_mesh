{
  "cells": [
    {
      "cell_type": "code",
      "execution_count": 2,
      "metadata": {},
      "outputs": [],
      "source": [
        "import pandas as pd"
      ]
    },
    {
      "cell_type": "code",
      "execution_count": 44,
      "metadata": {},
      "outputs": [],
      "source": [
        "df = pd.read_excel('Data/pred/iphone/0.7/results.xlsx',)"
      ]
    },
    {
      "cell_type": "code",
      "execution_count": 45,
      "metadata": {},
      "outputs": [
        {
          "data": {
            "text/html": [
              "<div>\n",
              "<style scoped>\n",
              "    .dataframe tbody tr th:only-of-type {\n",
              "        vertical-align: middle;\n",
              "    }\n",
              "\n",
              "    .dataframe tbody tr th {\n",
              "        vertical-align: top;\n",
              "    }\n",
              "\n",
              "    .dataframe thead th {\n",
              "        text-align: right;\n",
              "    }\n",
              "</style>\n",
              "<table border=\"1\" class=\"dataframe\">\n",
              "  <thead>\n",
              "    <tr style=\"text-align: right;\">\n",
              "      <th></th>\n",
              "      <th>file_name</th>\n",
              "      <th>class_gt</th>\n",
              "      <th>class_pred</th>\n",
              "    </tr>\n",
              "  </thead>\n",
              "  <tbody>\n",
              "    <tr>\n",
              "      <th>0</th>\n",
              "      <td>100.JPG</td>\n",
              "      <td>front</td>\n",
              "      <td>front</td>\n",
              "    </tr>\n",
              "    <tr>\n",
              "      <th>1</th>\n",
              "      <td>101.JPG</td>\n",
              "      <td>front</td>\n",
              "      <td>front</td>\n",
              "    </tr>\n",
              "    <tr>\n",
              "      <th>2</th>\n",
              "      <td>102.jpg</td>\n",
              "      <td>front</td>\n",
              "      <td>front</td>\n",
              "    </tr>\n",
              "    <tr>\n",
              "      <th>3</th>\n",
              "      <td>103.JPG</td>\n",
              "      <td>front</td>\n",
              "      <td>front</td>\n",
              "    </tr>\n",
              "    <tr>\n",
              "      <th>4</th>\n",
              "      <td>104.JPG</td>\n",
              "      <td>front</td>\n",
              "      <td>front</td>\n",
              "    </tr>\n",
              "  </tbody>\n",
              "</table>\n",
              "</div>"
            ],
            "text/plain": [
              "  file_name class_gt class_pred\n",
              "0   100.JPG    front      front\n",
              "1   101.JPG    front      front\n",
              "2   102.jpg    front      front\n",
              "3   103.JPG    front      front\n",
              "4   104.JPG    front      front"
            ]
          },
          "execution_count": 45,
          "metadata": {},
          "output_type": "execute_result"
        }
      ],
      "source": [
        "df.head()"
      ]
    },
    {
      "cell_type": "code",
      "execution_count": 46,
      "metadata": {},
      "outputs": [],
      "source": [
        "df['prediction'] = df['class_gt'] == df['class_pred']"
      ]
    },
    {
      "cell_type": "code",
      "execution_count": 47,
      "metadata": {},
      "outputs": [
        {
          "data": {
            "text/html": [
              "<div>\n",
              "<style scoped>\n",
              "    .dataframe tbody tr th:only-of-type {\n",
              "        vertical-align: middle;\n",
              "    }\n",
              "\n",
              "    .dataframe tbody tr th {\n",
              "        vertical-align: top;\n",
              "    }\n",
              "\n",
              "    .dataframe thead th {\n",
              "        text-align: right;\n",
              "    }\n",
              "</style>\n",
              "<table border=\"1\" class=\"dataframe\">\n",
              "  <thead>\n",
              "    <tr style=\"text-align: right;\">\n",
              "      <th></th>\n",
              "      <th>file_name</th>\n",
              "      <th>class_gt</th>\n",
              "      <th>class_pred</th>\n",
              "      <th>prediction</th>\n",
              "    </tr>\n",
              "  </thead>\n",
              "  <tbody>\n",
              "    <tr>\n",
              "      <th>0</th>\n",
              "      <td>100.JPG</td>\n",
              "      <td>front</td>\n",
              "      <td>front</td>\n",
              "      <td>True</td>\n",
              "    </tr>\n",
              "    <tr>\n",
              "      <th>1</th>\n",
              "      <td>101.JPG</td>\n",
              "      <td>front</td>\n",
              "      <td>front</td>\n",
              "      <td>True</td>\n",
              "    </tr>\n",
              "    <tr>\n",
              "      <th>2</th>\n",
              "      <td>102.jpg</td>\n",
              "      <td>front</td>\n",
              "      <td>front</td>\n",
              "      <td>True</td>\n",
              "    </tr>\n",
              "    <tr>\n",
              "      <th>3</th>\n",
              "      <td>103.JPG</td>\n",
              "      <td>front</td>\n",
              "      <td>front</td>\n",
              "      <td>True</td>\n",
              "    </tr>\n",
              "    <tr>\n",
              "      <th>4</th>\n",
              "      <td>104.JPG</td>\n",
              "      <td>front</td>\n",
              "      <td>front</td>\n",
              "      <td>True</td>\n",
              "    </tr>\n",
              "  </tbody>\n",
              "</table>\n",
              "</div>"
            ],
            "text/plain": [
              "  file_name class_gt class_pred  prediction\n",
              "0   100.JPG    front      front        True\n",
              "1   101.JPG    front      front        True\n",
              "2   102.jpg    front      front        True\n",
              "3   103.JPG    front      front        True\n",
              "4   104.JPG    front      front        True"
            ]
          },
          "execution_count": 47,
          "metadata": {},
          "output_type": "execute_result"
        }
      ],
      "source": [
        "df.head()"
      ]
    },
    {
      "cell_type": "markdown",
      "metadata": {},
      "source": [
        "Accuracy"
      ]
    },
    {
      "cell_type": "code",
      "execution_count": 48,
      "metadata": {},
      "outputs": [
        {
          "name": "stdout",
          "output_type": "stream",
          "text": [
            "Overall_accuracy: 0.844311377245509\n"
          ]
        }
      ],
      "source": [
        "true_count_ratio = df['prediction'].sum() / df.shape[0]\n",
        "print(\"Overall_accuracy:\", true_count_ratio)"
      ]
    },
    {
      "cell_type": "code",
      "execution_count": 49,
      "metadata": {},
      "outputs": [
        {
          "name": "stdout",
          "output_type": "stream",
          "text": [
            "Front_Face_accuracy: 1.0\n"
          ]
        }
      ],
      "source": [
        "df_front = df[df['class_gt']=='front'].copy(deep=True)\n",
        "true_count_ratio = df_front['prediction'].sum() / df_front.shape[0]\n",
        "print(\"Front_Face_accuracy:\", true_count_ratio)"
      ]
    },
    {
      "cell_type": "code",
      "execution_count": 50,
      "metadata": {},
      "outputs": [
        {
          "name": "stdout",
          "output_type": "stream",
          "text": [
            "profile_face_accuracy: 0.925\n"
          ]
        }
      ],
      "source": [
        "df_profile = df[df['class_gt']=='profile'].copy(deep=True)\n",
        "true_count_ratio = df_profile['prediction'].sum() / df_profile.shape[0]\n",
        "print(\"profile_face_accuracy:\", true_count_ratio)"
      ]
    },
    {
      "cell_type": "code",
      "execution_count": 51,
      "metadata": {},
      "outputs": [
        {
          "name": "stdout",
          "output_type": "stream",
          "text": [
            "multiple_Face_accuracy: 0.64\n"
          ]
        }
      ],
      "source": [
        "df_multi = df[df['class_gt']=='multiple_face'].copy(deep=True)\n",
        "true_count_ratio = df_multi['prediction'].sum() / df_multi.shape[0]\n",
        "print(\"multiple_Face_accuracy:\", true_count_ratio)"
      ]
    },
    {
      "cell_type": "code",
      "execution_count": 52,
      "metadata": {},
      "outputs": [
        {
          "name": "stdout",
          "output_type": "stream",
          "text": [
            "NO_Face_accuracy: 0.8958333333333334\n"
          ]
        }
      ],
      "source": [
        "df_no_face = df[df['class_gt']=='no_face'].copy(deep=True)\n",
        "true_count_ratio = df_no_face['prediction'].sum() / df_no_face.shape[0]\n",
        "print(\"NO_Face_accuracy:\", true_count_ratio)"
      ]
    },
    {
      "cell_type": "code",
      "execution_count": null,
      "metadata": {},
      "outputs": [],
      "source": []
    }
  ],
  "metadata": {
    "colab": {
      "provenance": []
    },
    "kernelspec": {
      "display_name": "Python 3 (ipykernel)",
      "language": "python",
      "name": "python3"
    },
    "language_info": {
      "codemirror_mode": {
        "name": "ipython",
        "version": 3
      },
      "file_extension": ".py",
      "mimetype": "text/x-python",
      "name": "python",
      "nbconvert_exporter": "python",
      "pygments_lexer": "ipython3",
      "version": "3.10.13"
    }
  },
  "nbformat": 4,
  "nbformat_minor": 0
}
